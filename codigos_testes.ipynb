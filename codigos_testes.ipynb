{
 "cells": [
  {
   "cell_type": "code",
   "execution_count": 3,
   "metadata": {},
   "outputs": [],
   "source": [
    "import funcoes as f\n",
    "import config as cf\n",
    "import cv2\n",
    "import numpy as np\n",
    "import os"
   ]
  },
  {
   "cell_type": "code",
   "execution_count": 7,
   "metadata": {},
   "outputs": [],
   "source": [
    "#TESTE DA FUNÇÃO DE PREPARAÇÃO DA IMAGEM#\n",
    "\n",
    "# Carregar a imagem\n",
    "imagem = cv2.imread(r'C:\\Users\\julia\\OneDrive\\Imagens\\00030570_000.png')\n",
    "\n",
    "img_invertida = cv2.bitwise_not(imagem)\n",
    "\n",
    "# Salvar a imagem como PNG\n",
    "cv2.imwrite(\"saved_image.png\", img_invertida)\n",
    "\n",
    "# cv2.imshow('Imagem Original', cv2.resize(imagem, cf.tamanho))\n",
    "# cv2.imshow('Imagem Invertida', img_invertida)\n",
    "# Esperar por qualquer tecla ser pressionada\n",
    "cv2.waitKey(0)\n",
    "# Fechar todas as janelas abertas\n",
    "cv2.destroyAllWindows()\n"
   ]
  },
  {
   "cell_type": "code",
   "execution_count": null,
   "metadata": {},
   "outputs": [],
   "source": [
    "# TESTE FUNÇÃO DE ANALISAR IMAGEM\n",
    "import numpy as np\n",
    "import tensorflow as tf\n",
    "from tensorflow.keras.preprocessing import image\n",
    "import matplotlib.pyplot as plt\n",
    "import cv2\n",
    "from keras.models import load_model\n",
    "\n",
    "# Função para carregar e pre-processar a imagem - converter para array\n",
    "def carregar_e_processar_imagem(img_path):\n",
    "    img = image.load_img(img_path, target_size=cf.tamanho)  # Altere o tamanho conforme necessário\n",
    "    img_array = image.img_to_array(img)\n",
    "    img_array = np.expand_dims(img_array, axis=0)\n",
    "    return img_array\n",
    "\n",
    "# Função para carregar e preprocessar a imagem - converter para array\n",
    "def analise_da_imagem(img_array):\n",
    "    # Carregar o modelo\n",
    "    modelo = load_model(r\"C:\\Users\\julia\\OneDrive\\Projetos\\Priori-RX\\teste\\CNN_RaioX_COVID.weights.h5\", compile=False)\n",
    "    # Fazer a previsão\n",
    "    predictions = modelo.predict(img_array)\n",
    "    # Se você souber as classes, pode imprimir a classe prevista\n",
    "    predicted_class = np.argmax(predictions, axis=1)\n",
    "\n",
    "    if predicted_class == 0:\n",
    "        classe = 'Doente'\n",
    "    else:\n",
    "        classe = 'Saudavel'\n",
    "\n",
    "    return classe"
   ]
  },
  {
   "cell_type": "code",
   "execution_count": 10,
   "metadata": {},
   "outputs": [
    {
     "name": "stdout",
     "output_type": "stream",
     "text": [
      "\u001b[1m1/1\u001b[0m \u001b[32m━━━━━━━━━━━━━━━━━━━━\u001b[0m\u001b[37m\u001b[0m \u001b[1m0s\u001b[0m 76ms/step\n",
      "Previsões: [[0.02127375]]\n",
      "Classe prevista: Doente\n"
     ]
    }
   ],
   "source": [
    "# Nomes das classes e seus índices:\n",
    "# {'Doente': 0, 'Saudavel': 1}\n",
    "\n",
    "import numpy as np\n",
    "import tensorflow as tf\n",
    "from tensorflow.keras.preprocessing import image\n",
    "import matplotlib.pyplot as plt\n",
    "import cv2\n",
    "from keras.models import load_model\n",
    "\n",
    "# Carregar o modelo\n",
    "modelo = load_model(r\"C:\\Users\\julia\\OneDrive\\Projetos\\Priori-RX\\teste\\CNN_RaioX_COVID.weights.h5\", compile=False)\n",
    "\n",
    "# Função para carregar e preprocessar a imagem\n",
    "def load_and_preprocess_image(img_path):\n",
    "    img = image.load_img(img_path, target_size=(100, 100))  # Altere o tamanho conforme necessário\n",
    "    img_array = image.img_to_array(img)\n",
    "    img_array = np.expand_dims(img_array, axis=0)\n",
    "    img_array /= 255.0  # Normalização se necessário\n",
    "    return img_array\n",
    "\n",
    "# Caminho da imagem\n",
    "img_path = r\"C:\\Users\\julia\\OneDrive\\Projetos\\Priori-RX\\nih-dataset\\train\\Saudavel\\00010980_001.png\"  # Altere para o caminho da sua imagem\n",
    "\n",
    "# Carregar e preprocessar a imagem\n",
    "img_array = load_and_preprocess_image(img_path)\n",
    "\n",
    "# Fazer a previsão\n",
    "predictions = modelo.predict(img_array)\n",
    "\n",
    "# Exibir a previsão\n",
    "print(\"Previsões:\", predictions)\n",
    "\n",
    "# Se você souber as classes, pode imprimir a classe prevista\n",
    "predicted_class = np.argmax(predictions, axis=1)\n",
    "\n",
    "if predicted_class == 0:\n",
    "    classe = 'Doente'\n",
    "else:\n",
    "    classe = 'Saudavel'\n",
    "\n",
    "\n",
    "print(\"Classe prevista:\", classe)\n"
   ]
  }
 ],
 "metadata": {
  "kernelspec": {
   "display_name": "wrl",
   "language": "python",
   "name": "python3"
  },
  "language_info": {
   "codemirror_mode": {
    "name": "ipython",
    "version": 3
   },
   "file_extension": ".py",
   "mimetype": "text/x-python",
   "name": "python",
   "nbconvert_exporter": "python",
   "pygments_lexer": "ipython3",
   "version": "3.11.7"
  }
 },
 "nbformat": 4,
 "nbformat_minor": 2
}
